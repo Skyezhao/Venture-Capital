{
 "cells": [
  {
   "cell_type": "code",
   "execution_count": 1,
   "metadata": {},
   "outputs": [],
   "source": [
    "import time\n",
    "import json\n",
    "import datetime\n",
    "import pandas as pd \n",
    "import json\n",
    "import os,sys\n",
    "import numpy as np\n",
    "import csv\n",
    "from pandas.core.frame import DataFrame\n",
    "import copy\n",
    "import matplotlib.pyplot as plt\n",
    "import nltk\n",
    "import util\n",
    "# from util import change_year_type, group_different, build_dic_function,build_group_dic,judge_success\n",
    "import networkx as nx"
   ]
  },
  {
   "cell_type": "code",
   "execution_count": 2,
   "metadata": {},
   "outputs": [],
   "source": [
    "#\"CompanyID\",\"CompanyName\",\"YearFounded\"\n",
    "com1 = pd.read_excel('Company.xlsx')  \n",
    "com1.reset_index(drop=True, inplace=True)\n",
    "#\"CompanyID\",\"IndustrySector\",\"IndustryGroup\",\"IndustryCode\",\"IsPrimary\"\n",
    "com_industry = pd.read_excel('CompanyIndustryRelation.xlsx')\n",
    "com_industryfouh.reset_index(drop=True, inplace=True)\n",
    "#\"CompanyID\",\"PersonID\tPersonName\tFullTitle\tIsCurrent\tStartDate\tEndDate\"\n",
    "com_team = pd.read_excel('CompanyTeamRelation.xlsx')\n",
    "com_team.reset_index(drop=True, inplace=True)\n",
    "#CompanyID\tLocationName\tLocationType\tLocationStatus\tAddress1\tAddress2\tCity\tState\tPostCode\tCountry\tOfficePhone\tOfficeFax\n",
    "com_location = pd.read_excel('CompanyLocationRelation.xlsx')\n",
    "com_location.reset_index(drop=True, inplace=True)\n",
    "\n",
    "#PersonID\tDealID\tCompanyID\tCompanyName\tDealDate\tDealType\tDealSize\n",
    "Deal = pd.read_excel('PeopleAffiliatedDealRelation.xlsx')\n",
    "Deal.reset_index(drop=True, inplace=True)\n",
    "#PersonID\tEntityID\tEntityName\tEntityType\tFullTitle\tIsCurrent\tIsBoardSeat\tLocation\tStartDate\tEndDate\tLastUpdated\n",
    "peo_pos = pd.read_excel('PeoplePositionRelation.xlsx')  \n",
    "peo_pos.reset_index(drop=True, inplace=True)"
   ]
  },
  {
   "cell_type": "markdown",
   "metadata": {},
   "source": [
    "# 构建网络 & 计算中心度"
   ]
  },
  {
   "cell_type": "code",
   "execution_count": 3,
   "metadata": {},
   "outputs": [],
   "source": [
    "foundyear_dic = util.build_dic_function(list(com1[\"CompanyID\"]),list(com1[\"YearFounded\"]),\"None\")  ####### company:foundyear"
   ]
  },
  {
   "cell_type": "code",
   "execution_count": 4,
   "metadata": {},
   "outputs": [
    {
     "name": "stdout",
     "output_type": "stream",
     "text": [
      "-------------------- stage 1 -------------------------\n"
     ]
    }
   ],
   "source": [
    "# 找到每年之前，每个人对应的待过/现任公司列表\n",
    "yy = []\n",
    "for i in range(1980,2020):\n",
    "    yy.append(i)\n",
    "\n",
    "def build_network():\n",
    "    dic = {}\n",
    "    whether_company_team = {} #作为teammember最早的年份\n",
    "    for year in yy:\n",
    "#         print(year)\n",
    "        dic[year] = {}\n",
    "        for i in range(len(com_team)):\n",
    "            ss = util.change_year_type(com_team[\"StartDate\"][i])\n",
    "            if (pd.isnull(ss)) or (ss > year):\n",
    "                continue\n",
    "            pp = com_team[\"PersonID\"][i]\n",
    "            cc = com_team[\"CompanyID\"][i]\n",
    "            if pp not in whether_company_team.keys():\n",
    "                whether_company_team[pp] = ss\n",
    "            else:\n",
    "                whether_company_team[pp] = min(whether_company_team[pp],ss)\n",
    "            if pp not in dic[year].keys():\n",
    "                dic[year][pp] = []\n",
    "            if cc not in dic[year][pp]:\n",
    "                dic[year][pp].append(cc)\n",
    "        for i in range(len(peo_pos)):\n",
    "            ss = util.change_year_type(peo_pos[\"StartDate\"][i])\n",
    "            if (pd.isnull(ss)) or (ss > year):\n",
    "                continue\n",
    "            pp = peo_pos[\"PersonID\"][i]\n",
    "            cc = peo_pos[\"EntityID\"][i]\n",
    "            if pp not in dic[year].keys():\n",
    "                dic[year][pp] = []\n",
    "            if cc not in dic[year][pp]:\n",
    "                dic[year][pp].append(cc)\n",
    "    ################ print part###################\n",
    "    count = 0\n",
    "    for test_year in yy:\n",
    "        for pp in dic[test_year]:\n",
    "            if len(dic[test_year][pp])>1:\n",
    "                count += 1\n",
    "#         print(test_year,count)\n",
    "    print(\"-------------------- stage 1 -------------------------\")\n",
    "    ##############################################\n",
    "    return dic,whether_company_team\n",
    "    \n",
    "dic,whether_company_team = build_network()"
   ]
  },
  {
   "cell_type": "code",
   "execution_count": null,
   "metadata": {},
   "outputs": [],
   "source": [
    "print(dic[2010][\"207305-83P\"],dic[2015][\"207305-83P\"])"
   ]
  },
  {
   "cell_type": "code",
   "execution_count": 7,
   "metadata": {},
   "outputs": [
    {
     "name": "stdout",
     "output_type": "stream",
     "text": [
      "['268701-40'] ['268701-40']\n"
     ]
    }
   ],
   "source": [
    "print(dic[2010][\"207305-83P\"],dic[2015][\"207305-83P\"])"
   ]
  },
  {
   "cell_type": "code",
   "execution_count": 6,
   "metadata": {},
   "outputs": [
    {
     "name": "stdout",
     "output_type": "stream",
     "text": [
      "2014\n"
     ]
    }
   ],
   "source": [
    "print(whether_company_team[\"86948-74P\"])"
   ]
  },
  {
   "cell_type": "code",
   "execution_count": 7,
   "metadata": {},
   "outputs": [
    {
     "name": "stdout",
     "output_type": "stream",
     "text": [
      "[('150687-46', '53612-02'), ('433199-80', '53612-02')]\n"
     ]
    }
   ],
   "source": [
    "chuangye = list(com1[\"CompanyID\"])\n",
    "def calculate_edge2(list_):\n",
    "    yes = []\n",
    "    no = []\n",
    "    for tmp in list_:\n",
    "        if (tmp in chuangye):\n",
    "            yes.append(tmp)\n",
    "        else:\n",
    "            no.append(tmp)\n",
    "    output = []\n",
    "    for yes_com in yes:\n",
    "        for no_com in no:\n",
    "            tmp_out = sorted([yes_com,no_com])\n",
    "            output.append((tmp_out[0],tmp_out[1]))\n",
    "    return output\n",
    "\n",
    "print(calculate_edge2(dic[2019][\"39837-97P\"]))\n",
    "#[('150687-46', '53612-02'), ('433199-80', '53612-02')]"
   ]
  },
  {
   "cell_type": "code",
   "execution_count": 9,
   "metadata": {},
   "outputs": [
    {
     "name": "stdout",
     "output_type": "stream",
     "text": [
      "True\n",
      "True\n",
      "False\n"
     ]
    }
   ],
   "source": [
    "for tmp in dic[2019][\"39837-97P\"]:\n",
    "    print(tmp in chuangye)"
   ]
  },
  {
   "cell_type": "code",
   "execution_count": 8,
   "metadata": {},
   "outputs": [],
   "source": [
    "# 对每年 每个人所处公司列表，两两连接\n",
    "def stage_two(dic,whether_company_team):\n",
    "    net_dic = {}\n",
    "    # 对每年 每个人所处公司列表，两两连接\n",
    "    for year in yy:\n",
    "        net_dic[year] = []\n",
    "        for pp in dic[year].keys():\n",
    "            if (pp not in whether_company_team.keys()) or whether_company_team[pp] > year:\n",
    "                continue\n",
    "            list_ = sorted(dic[year][pp]) #按公司ID排好序的列表\n",
    "            if len(list_) == 1:\n",
    "                continue\n",
    "            net_dic[year] = net_dic[year] + calculate_edge2(list_)\n",
    "#             for ii in range(len(list_)):\n",
    "#                 for jj in range(ii,len(list_)):\n",
    "#                     if ii == jj:\n",
    "#                         continue\n",
    "#                     net_dic[year].append((list_[ii],list_[jj]))\n",
    "        net_dic[year] = list(set(net_dic[year]))\n",
    "    return net_dic\n",
    "net_dic = stage_two(dic,whether_company_team)"
   ]
  },
  {
   "cell_type": "code",
   "execution_count": 12,
   "metadata": {},
   "outputs": [
    {
     "name": "stdout",
     "output_type": "stream",
     "text": [
      "45644\n"
     ]
    }
   ],
   "source": [
    "print(len(net_dic[2019]))"
   ]
  },
  {
   "cell_type": "code",
   "execution_count": 28,
   "metadata": {},
   "outputs": [
    {
     "name": "stdout",
     "output_type": "stream",
     "text": [
      "13085\n"
     ]
    }
   ],
   "source": [
    "print(len(net_dic[2012]))"
   ]
  },
  {
   "cell_type": "code",
   "execution_count": 18,
   "metadata": {},
   "outputs": [
    {
     "name": "stdout",
     "output_type": "stream",
     "text": [
      "26930\n"
     ]
    }
   ],
   "source": [
    "print(len(net_dic[2012]))"
   ]
  },
  {
   "cell_type": "code",
   "execution_count": 9,
   "metadata": {},
   "outputs": [
    {
     "name": "stdout",
     "output_type": "stream",
     "text": [
      "---------  2010  ------------\n",
      "该网络的节点总数为： 8229\n",
      "最大连通分支包含的节点个数： 784.0\n",
      "最大连通分支比例： 0.09527281565196258\n",
      "---------  2011  ------------\n",
      "该网络的节点总数为： 11092\n",
      "最大连通分支包含的节点个数： 1478.0\n",
      "最大连通分支比例： 0.13324918860439958\n",
      "---------  2012  ------------\n",
      "该网络的节点总数为： 14993\n",
      "最大连通分支包含的节点个数： 2610.0\n",
      "最大连通分支比例： 0.17408123791102514\n",
      "---------  2013  ------------\n",
      "该网络的节点总数为： 19829\n",
      "最大连通分支包含的节点个数： 4301.0\n",
      "最大连通分支比例： 0.21690453376367946\n",
      "---------  2014  ------------\n",
      "该网络的节点总数为： 25563\n",
      "最大连通分支包含的节点个数： 6738.0\n",
      "最大连通分支比例： 0.26358408637483866\n",
      "---------  2015  ------------\n",
      "该网络的节点总数为： 31376\n",
      "最大连通分支包含的节点个数： 9645.0\n",
      "最大连通分支比例： 0.30740056093829676\n"
     ]
    }
   ],
   "source": [
    "def save_file (add_dic):\n",
    "    add_dic = [[\"year\",\"company\",\"value\"]] + add_dic\n",
    "    add_dic = pd.DataFrame(add_dic)\n",
    "    add_dic.to_excel('closeness_centrality_company_major_9.8.xlsx', header=False, index=False)\n",
    "\n",
    "index_save = [[\"年份\",\"边总数\",\"节点总数\",\"最大连通分支包含的节点个数\",\"最大连通分支比例\"]]\n",
    "def stage_three(net_dic):\n",
    "    # 计算网络中心度\n",
    "    output_list = []\n",
    "    yy = []\n",
    "    for i in range(2010,2016):\n",
    "        yy.append(i)\n",
    "    for year in yy:\n",
    "        node = []\n",
    "        kkkk = []\n",
    "        G = nx.Graph()\n",
    "        for pair in net_dic[year]:\n",
    "            if pair[0] not in node:\n",
    "                node.append(pair[0])\n",
    "            if pair[1] not in node:\n",
    "                node.append(pair[1])\n",
    "            G.add_edge(pair[0],pair[1])\n",
    "        matrix = node\n",
    "        center = nx.closeness_centrality(G)\n",
    "        max_cc =max(nx.algorithms.components.connected_components(G),key = len)\n",
    "        print('--------- ',year,' ------------')\n",
    "        kkkk.append(max_cc)\n",
    "#         print(max_cc)\n",
    "        print(\"该网络的节点总数为：\",len(matrix))\n",
    "        ncc = float(len(max_cc))\n",
    "        print(\"最大连通分支包含的节点个数：\",ncc)\n",
    "        print(\"最大连通分支比例：\",ncc/len(matrix))\n",
    "        for item in center.items():\n",
    "            if pd.isnull(item[0]) or pd.isnull(item[1]):\n",
    "                continue\n",
    "            output_list.append([year,item[0], str(item[1])])\n",
    "        index_save.append([year,len(net_dic[year]),len(matrix),ncc,ncc/len(matrix)])\n",
    "    save_file(output_list)\n",
    "    return kkkk\n",
    "max_node = stage_three(net_dic)"
   ]
  },
  {
   "cell_type": "code",
   "execution_count": 10,
   "metadata": {},
   "outputs": [],
   "source": [
    "out = pd.DataFrame(index_save)\n",
    "out.to_excel(\"tmp.xlsx\",header = False,index=False)"
   ]
  },
  {
   "cell_type": "markdown",
   "metadata": {},
   "source": [
    "# 计算中心度与成功率的关系"
   ]
  },
  {
   "cell_type": "code",
   "execution_count": 4,
   "metadata": {},
   "outputs": [],
   "source": [
    "#\"IPO\",\"Merger of Equals\",\"Merger/Acquisition\",\"Reverse Merger\"\n",
    "def build_ipoma(list1, list2,time):\n",
    "    # list1:list2\n",
    "    yy = 7 #限制未来7年\n",
    "    dic = {}\n",
    "    dic_time = {}\n",
    "    kkk = []\n",
    "    for i in range(len(list1)):\n",
    "        item1,item2 = list1[i],list2[i]\n",
    "        if item2 not in [\"Bankruptcy: Admin/Reorg\",\"Bankruptcy: Liquidation\",\"Dividend\",\"Dividend Recapitalization\",\"IPO\",\"Merger of Equals\",\"Merger/Acquisition\",\"Reverse Merger\",\"Share Repurchase\"]:\n",
    "            continue\n",
    "        if pd.isnull(item1) or pd.isnull(item2):\n",
    "            continue\n",
    "        try:\n",
    "            ff = foundyear_dic[item1]\n",
    "            dd = util.change_year_type(time[i])\n",
    "            if (dd == None):\n",
    "                continue\n",
    "            #取自成立后五年内的最后一个结果\n",
    "            if item1 not in dic.keys():\n",
    "                if (dd-ff) <= yy:\n",
    "                    dic[item1] = item2\n",
    "                else:\n",
    "                    dic[item1] = \"More5\"\n",
    "                dic_time[item1] = dd\n",
    "            else:\n",
    "                if (dd-ff) > yy:\n",
    "                    continue\n",
    "                dd2 = dic_time[item1]\n",
    "                if dd > dd2:\n",
    "                    dic[item1] = item2\n",
    "                    dic_time[item1] = dd\n",
    "        except KeyError:\n",
    "            continue\n",
    "    return dic,dic_time\n",
    "\n",
    "ipoma_dic,ipoma_time_dic = build_ipoma(list(Deal[\"CompanyID\"]),list(Deal[\"DealType\"]),list(Deal[\"DealDate\"]))  ####### company:outcome\n",
    "\n",
    "def append_what(com):\n",
    "    if com in ipoma_dic.keys():\n",
    "        string = ipoma_dic[com]\n",
    "        if string in [\"IPO\",\"Merger of Equals\",\"Merger/Acquisition\",\"Reverse Merger\"]:\n",
    "            return 1\n",
    "        else:\n",
    "            return 0\n",
    "    else:\n",
    "        return 0"
   ]
  },
  {
   "cell_type": "code",
   "execution_count": 12,
   "metadata": {
    "scrolled": true
   },
   "outputs": [],
   "source": [
    "close = pd.read_excel('Table/network/closeness_centrality_company_major.xlsx')\n",
    "# close = pd.read_excel('Table/network/closeness_centrality_pp_cooperation.xlsx')\n",
    "close.reset_index(drop=True, inplace=True)"
   ]
  },
  {
   "cell_type": "code",
   "execution_count": 14,
   "metadata": {},
   "outputs": [],
   "source": [
    "yy = []\n",
    "for i in range(1980,2016):\n",
    "    yy.append(i)\n",
    "def build_dic_1(pd):\n",
    "    dic = {}\n",
    "    dic_cal = {}\n",
    "    for year in yy:\n",
    "        dic[year] = {}\n",
    "        dic_cal[year] = []\n",
    "    Y = list(pd[\"year\"])\n",
    "    P = list(pd[\"company\"])\n",
    "    V = list(pd[\"value\"])\n",
    "    for i in range(len(Y)):\n",
    "        dic[Y[i]][P[i]] = V[i]\n",
    "        dic_cal[Y[i]].append(V[i])\n",
    "    return dic,dic_cal\n",
    "close_dic,sum_close_dic = build_dic_1(close)"
   ]
  },
  {
   "cell_type": "code",
   "execution_count": 15,
   "metadata": {},
   "outputs": [
    {
     "name": "stdout",
     "output_type": "stream",
     "text": [
      "0.002742230347349177\n",
      "0.0030349013657056147\n",
      "0.0025823111684958036\n",
      "0.0033500837520938024\n",
      "0.0023832221163012394\n",
      "0.0039447731755424065\n",
      "0.0043859649122807015\n",
      "0.008559201141226819\n",
      "0.010565110565110565\n",
      "0.01237675687014894\n",
      "0.013712718546451834\n",
      "0.015064562410329985\n",
      "0.01430615164520744\n",
      "0.014990377798035045\n",
      "0.013503437991881369\n",
      "0.011673151750972763\n"
     ]
    }
   ],
   "source": [
    "#计算前百分之及的成功率\n",
    "yy = []\n",
    "for i in range(2000,2016):\n",
    "    yy.append(i)\n",
    "\n",
    "for year in yy:\n",
    "#     kk = np.percentile(sum_close_dic[year],0.8)\n",
    "#     print(kk)\n",
    "    nn = int(len(sum_close_dic[year])*0.2)\n",
    "    diff_value = sorted(sum_close_dic[year])\n",
    "    kk = diff_value[nn]\n",
    "    calc = []\n",
    "    for company in close_dic[year].keys():\n",
    "        #在该年之前上市\n",
    "        if (company in ipoma_time_dic.keys()) and (ipoma_time_dic[company] < year):\n",
    "            continue\n",
    "        if close_dic[year][company] <= kk:\n",
    "            calc.append(append_what(company))\n",
    "#     print(year)\n",
    "#     print(len(calc))\n",
    "    print(sum(calc)/len(calc))\n",
    "#     print(calc)"
   ]
  },
  {
   "cell_type": "code",
   "execution_count": 11,
   "metadata": {},
   "outputs": [
    {
     "name": "stdout",
     "output_type": "stream",
     "text": [
      "0.0\n",
      "0.0\n",
      "0.0\n",
      "0.0\n",
      "0.0\n",
      "0.0\n",
      "0.0\n",
      "0.0\n",
      "0.0\n",
      "0.0\n",
      "0.0\n",
      "0.0\n",
      "0.0\n",
      "0.0\n",
      "0.0\n",
      "0.0\n"
     ]
    }
   ],
   "source": [
    "#计算top多少多少的成功率\n",
    "for year in yy:\n",
    "#     nn = int(len(sum_close_dic[year])*0.2)\n",
    "    diff_value = sorted(close_dic[year].items(),key=lambda k: k[1],reverse=True)\n",
    "    count = 0\n",
    "    calc = []\n",
    "    for kkk in diff_value:\n",
    "        if count == 800:\n",
    "            break\n",
    "        count += 1\n",
    "        company = kkk[0]\n",
    "        if (company in ipoma_time_dic.keys()) and (ipoma_time_dic[company] < year):\n",
    "            continue\n",
    "        calc.append(append_what(company))\n",
    "#     print(len(calc))\n",
    "    print(sum(calc)/len(calc))"
   ]
  }
 ],
 "metadata": {
  "kernelspec": {
   "display_name": "Python 3 (ipykernel)",
   "language": "python",
   "name": "python3"
  },
  "language_info": {
   "codemirror_mode": {
    "name": "ipython",
    "version": 3
   },
   "file_extension": ".py",
   "mimetype": "text/x-python",
   "name": "python",
   "nbconvert_exporter": "python",
   "pygments_lexer": "ipython3",
   "version": "3.8.3"
  },
  "toc": {
   "base_numbering": 1,
   "nav_menu": {},
   "number_sections": true,
   "sideBar": true,
   "skip_h1_title": false,
   "title_cell": "Table of Contents",
   "title_sidebar": "Contents",
   "toc_cell": false,
   "toc_position": {},
   "toc_section_display": true,
   "toc_window_display": false
  }
 },
 "nbformat": 4,
 "nbformat_minor": 2
}
